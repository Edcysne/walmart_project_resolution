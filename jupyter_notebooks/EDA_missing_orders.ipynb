{
 "cells": [
  {
   "cell_type": "code",
   "execution_count": 1,
   "id": "e2de000d-3b06-42e2-8771-843b02c0184b",
   "metadata": {},
   "outputs": [],
   "source": [
    "#Start pack that i do for every EDA \n",
    "\n",
    "import pandas as pd\n",
    "import numpy as np\n",
    "import matplotlib.pyplot as plt\n",
    "import seaborn as sns"
   ]
  },
  {
   "cell_type": "code",
   "execution_count": 10,
   "id": "39e6e2e6-320c-44c2-bfe0-d22b7567b3a5",
   "metadata": {},
   "outputs": [
    {
     "data": {
      "text/html": [
       "<div>\n",
       "<style scoped>\n",
       "    .dataframe tbody tr th:only-of-type {\n",
       "        vertical-align: middle;\n",
       "    }\n",
       "\n",
       "    .dataframe tbody tr th {\n",
       "        vertical-align: top;\n",
       "    }\n",
       "\n",
       "    .dataframe thead th {\n",
       "        text-align: right;\n",
       "    }\n",
       "</style>\n",
       "<table border=\"1\" class=\"dataframe\">\n",
       "  <thead>\n",
       "    <tr style=\"text-align: right;\">\n",
       "      <th></th>\n",
       "      <th>order_id</th>\n",
       "      <th>product_id</th>\n",
       "      <th>product_name</th>\n",
       "      <th>category</th>\n",
       "      <th>price</th>\n",
       "    </tr>\n",
       "  </thead>\n",
       "  <tbody>\n",
       "    <tr>\n",
       "      <th>0</th>\n",
       "      <td>000e50be-92e8-46dc-9ff8-91a955b47ab7</td>\n",
       "      <td>PWPX0982761091093</td>\n",
       "      <td>Chocolate Milk</td>\n",
       "      <td>Supermarket</td>\n",
       "      <td>6.48</td>\n",
       "    </tr>\n",
       "    <tr>\n",
       "      <th>1</th>\n",
       "      <td>00243955-5e3f-49d7-beb7-e8452f1fe31d</td>\n",
       "      <td>PWPX0982761091086</td>\n",
       "      <td>Frozen Mozzarella</td>\n",
       "      <td>Supermarket</td>\n",
       "      <td>17.09</td>\n",
       "    </tr>\n",
       "    <tr>\n",
       "      <th>2</th>\n",
       "      <td>00f89d42-0bdd-471f-9fdc-70b86b344009</td>\n",
       "      <td>PWPX0982761090993</td>\n",
       "      <td>Ground Coffee</td>\n",
       "      <td>Supermarket</td>\n",
       "      <td>13.28</td>\n",
       "    </tr>\n",
       "    <tr>\n",
       "      <th>3</th>\n",
       "      <td>0128f8c1-e422-46f0-a233-8e36445518f5</td>\n",
       "      <td>PWPX0982761091005</td>\n",
       "      <td>Ketchup</td>\n",
       "      <td>Supermarket</td>\n",
       "      <td>17.79</td>\n",
       "    </tr>\n",
       "    <tr>\n",
       "      <th>4</th>\n",
       "      <td>0153b676-e29d-4d88-aeca-dfe4435d60f1</td>\n",
       "      <td>PWPX0982761091049</td>\n",
       "      <td>Baking Soda</td>\n",
       "      <td>Supermarket</td>\n",
       "      <td>19.55</td>\n",
       "    </tr>\n",
       "    <tr>\n",
       "      <th>...</th>\n",
       "      <td>...</td>\n",
       "      <td>...</td>\n",
       "      <td>...</td>\n",
       "      <td>...</td>\n",
       "      <td>...</td>\n",
       "    </tr>\n",
       "    <tr>\n",
       "      <th>95</th>\n",
       "      <td>0d85ed44-7a4d-44d5-842b-63db45e1fdbe</td>\n",
       "      <td>PWPX0982761091013</td>\n",
       "      <td>Rice Cakes</td>\n",
       "      <td>Supermarket</td>\n",
       "      <td>6.56</td>\n",
       "    </tr>\n",
       "    <tr>\n",
       "      <th>96</th>\n",
       "      <td>0db29995-1def-4586-aaa6-d63fe55251f5</td>\n",
       "      <td>PWPX0982761091057</td>\n",
       "      <td>String Cheese</td>\n",
       "      <td>Supermarket</td>\n",
       "      <td>11.13</td>\n",
       "    </tr>\n",
       "    <tr>\n",
       "      <th>97</th>\n",
       "      <td>0e38e133-83c4-47d4-94ea-438ea9ecc422</td>\n",
       "      <td>PWPX0982761091001</td>\n",
       "      <td>Frozen Pizza</td>\n",
       "      <td>Supermarket</td>\n",
       "      <td>15.09</td>\n",
       "    </tr>\n",
       "    <tr>\n",
       "      <th>98</th>\n",
       "      <td>0e4e2b8e-1c9c-47bf-ba32-393e6af6fb3c</td>\n",
       "      <td>PWPX0982761091097</td>\n",
       "      <td>Beats Studio Pro Headphone</td>\n",
       "      <td>Electronics</td>\n",
       "      <td>690.88</td>\n",
       "    </tr>\n",
       "    <tr>\n",
       "      <th>99</th>\n",
       "      <td>0e6f09d0-4ad3-490e-a8a0-1c76be8e5204</td>\n",
       "      <td>PWPX0982761091043</td>\n",
       "      <td>Mozzarella Sticks</td>\n",
       "      <td>Supermarket</td>\n",
       "      <td>16.00</td>\n",
       "    </tr>\n",
       "  </tbody>\n",
       "</table>\n",
       "<p>100 rows × 5 columns</p>\n",
       "</div>"
      ],
      "text/plain": [
       "                                order_id         product_id  \\\n",
       "0   000e50be-92e8-46dc-9ff8-91a955b47ab7  PWPX0982761091093   \n",
       "1   00243955-5e3f-49d7-beb7-e8452f1fe31d  PWPX0982761091086   \n",
       "2   00f89d42-0bdd-471f-9fdc-70b86b344009  PWPX0982761090993   \n",
       "3   0128f8c1-e422-46f0-a233-8e36445518f5  PWPX0982761091005   \n",
       "4   0153b676-e29d-4d88-aeca-dfe4435d60f1  PWPX0982761091049   \n",
       "..                                   ...                ...   \n",
       "95  0d85ed44-7a4d-44d5-842b-63db45e1fdbe  PWPX0982761091013   \n",
       "96  0db29995-1def-4586-aaa6-d63fe55251f5  PWPX0982761091057   \n",
       "97  0e38e133-83c4-47d4-94ea-438ea9ecc422  PWPX0982761091001   \n",
       "98  0e4e2b8e-1c9c-47bf-ba32-393e6af6fb3c  PWPX0982761091097   \n",
       "99  0e6f09d0-4ad3-490e-a8a0-1c76be8e5204  PWPX0982761091043   \n",
       "\n",
       "                  product_name     category   price  \n",
       "0               Chocolate Milk  Supermarket    6.48  \n",
       "1            Frozen Mozzarella  Supermarket   17.09  \n",
       "2                Ground Coffee  Supermarket   13.28  \n",
       "3                      Ketchup  Supermarket   17.79  \n",
       "4                  Baking Soda  Supermarket   19.55  \n",
       "..                         ...          ...     ...  \n",
       "95                  Rice Cakes  Supermarket    6.56  \n",
       "96               String Cheese  Supermarket   11.13  \n",
       "97                Frozen Pizza  Supermarket   15.09  \n",
       "98  Beats Studio Pro Headphone  Electronics  690.88  \n",
       "99           Mozzarella Sticks  Supermarket   16.00  \n",
       "\n",
       "[100 rows x 5 columns]"
      ]
     },
     "execution_count": 10,
     "metadata": {},
     "output_type": "execute_result"
    }
   ],
   "source": [
    "# Calling our missing orders dataset\n",
    "\n",
    "df = pd.read_csv(r\"C:\\Users\\amcys\\Documents\\02.Education\\01.Online Education\\03.DataTech Florida - Jerry Strazzeri\\09.Trabalhos Finais\\walmart_project_resolution\\treated datasets\\full_missing_orders_data.csv\")\n",
    "pd.set_option('display.max_columns', None)\n",
    "df.head(100)"
   ]
  },
  {
   "cell_type": "code",
   "execution_count": 19,
   "id": "9678790b-be0b-4416-9240-800d43f18607",
   "metadata": {},
   "outputs": [
    {
     "name": "stdout",
     "output_type": "stream",
     "text": [
      "<class 'pandas.core.frame.DataFrame'>\n",
      "RangeIndex: 1662 entries, 0 to 1661\n",
      "Data columns (total 5 columns):\n",
      " #   Column        Non-Null Count  Dtype  \n",
      "---  ------        --------------  -----  \n",
      " 0   order_id      1662 non-null   object \n",
      " 1   product_id    1662 non-null   object \n",
      " 2   product_name  1662 non-null   object \n",
      " 3   category      1662 non-null   object \n",
      " 4   price         1662 non-null   float64\n",
      "dtypes: float64(1), object(4)\n",
      "memory usage: 65.1+ KB\n"
     ]
    }
   ],
   "source": [
    "df.info()"
   ]
  },
  {
   "cell_type": "code",
   "execution_count": 31,
   "id": "c5bbbb08-3413-4a83-a38d-5789e088650b",
   "metadata": {},
   "outputs": [
    {
     "data": {
      "text/plain": [
       "([<matplotlib.patches.Wedge at 0x27887a0fc50>,\n",
       "  <matplotlib.patches.Wedge at 0x27887a4c050>],\n",
       " [Text(-1.0385021892514332, 0.3626474912638729, 'Electronics'),\n",
       "  Text(1.038502220955081, -0.3626474004751231, 'Supermarket')],\n",
       " [Text(-0.5664557395916907, 0.197807722507567, '89.3%'),\n",
       "  Text(0.5664557568845896, -0.19780767298643076, '10.7%')])"
      ]
     },
     "execution_count": 31,
     "metadata": {},
     "output_type": "execute_result"
    },
    {
     "data": {
      "image/png": "[encoded data removed]",
      "text/plain": [
       "<Figure size 640x480 with 1 Axes>"
      ]
     },
     "metadata": {},
     "output_type": "display_data"
    }
   ],
   "source": [
    "# Here we have a small dataframe about out missing orders only\n",
    "# the main goal here is to do a small descriptive analysis\n",
    "\n",
    "total_lost_category = df.groupby('category')['price'].sum()\n",
    "\n",
    "plt.pie(total_lost_category, labels=total_lost_category.index, autopct='%1.1f%%')"
   ]
  },
  {
   "cell_type": "code",
   "execution_count": null,
   "id": "c4b93d3a-27b6-44c0-951f-d415faca85a7",
   "metadata": {},
   "outputs": [],
   "source": []
  }
 ],
 "metadata": {
  "kernelspec": {
   "display_name": "Python [conda env:base] *",
   "language": "python",
   "name": "conda-base-py"
  },
  "language_info": {
   "codemirror_mode": {
    "name": "ipython",
    "version": 3
   },
   "file_extension": ".py",
   "mimetype": "text/x-python",
   "name": "python",
   "nbconvert_exporter": "python",
   "pygments_lexer": "ipython3",
   "version": "3.13.5"
  }
 },
 "nbformat": 4,
 "nbformat_minor": 5
}
